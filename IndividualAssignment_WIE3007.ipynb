{
  "nbformat": 4,
  "nbformat_minor": 0,
  "metadata": {
    "colab": {
      "provenance": [],
      "toc_visible": true,
      "authorship_tag": "ABX9TyOpeyGj4OQ+QWEJpe0mxufw",
      "include_colab_link": true
    },
    "kernelspec": {
      "name": "python3",
      "display_name": "Python 3"
    },
    "language_info": {
      "name": "python"
    }
  },
  "cells": [
    {
      "cell_type": "markdown",
      "metadata": {
        "id": "view-in-github",
        "colab_type": "text"
      },
      "source": [
        "<a href=\"https://colab.research.google.com/github/zongming03/Feature-Engineering/blob/main/IndividualAssignment_WIE3007.ipynb\" target=\"_parent\"><img src=\"https://colab.research.google.com/assets/colab-badge.svg\" alt=\"Open In Colab\"/></a>"
      ]
    },
    {
      "cell_type": "code",
      "source": [
        "!pip install featuretools"
      ],
      "metadata": {
        "colab": {
          "base_uri": "https://localhost:8080/"
        },
        "id": "NvBOMXyiQZwM",
        "outputId": "8f46309b-76b8-4c9a-fc64-22c3e619e6af"
      },
      "execution_count": 24,
      "outputs": [
        {
          "output_type": "stream",
          "name": "stdout",
          "text": [
            "Requirement already satisfied: featuretools in /usr/local/lib/python3.10/dist-packages (1.31.0)\n",
            "Requirement already satisfied: cloudpickle>=1.5.0 in /usr/local/lib/python3.10/dist-packages (from featuretools) (3.1.0)\n",
            "Requirement already satisfied: holidays>=0.17 in /usr/local/lib/python3.10/dist-packages (from featuretools) (0.59)\n",
            "Requirement already satisfied: numpy>=1.25.0 in /usr/local/lib/python3.10/dist-packages (from featuretools) (1.26.4)\n",
            "Requirement already satisfied: packaging>=20.0 in /usr/local/lib/python3.10/dist-packages (from featuretools) (24.1)\n",
            "Requirement already satisfied: pandas>=2.0.0 in /usr/local/lib/python3.10/dist-packages (from featuretools) (2.2.2)\n",
            "Requirement already satisfied: psutil>=5.7.0 in /usr/local/lib/python3.10/dist-packages (from featuretools) (5.9.5)\n",
            "Requirement already satisfied: scipy>=1.10.0 in /usr/local/lib/python3.10/dist-packages (from featuretools) (1.13.1)\n",
            "Requirement already satisfied: tqdm>=4.66.3 in /usr/local/lib/python3.10/dist-packages (from featuretools) (4.66.6)\n",
            "Requirement already satisfied: woodwork>=0.28.0 in /usr/local/lib/python3.10/dist-packages (from featuretools) (0.31.0)\n",
            "Requirement already satisfied: python-dateutil in /usr/local/lib/python3.10/dist-packages (from holidays>=0.17->featuretools) (2.8.2)\n",
            "Requirement already satisfied: pytz>=2020.1 in /usr/local/lib/python3.10/dist-packages (from pandas>=2.0.0->featuretools) (2024.2)\n",
            "Requirement already satisfied: tzdata>=2022.7 in /usr/local/lib/python3.10/dist-packages (from pandas>=2.0.0->featuretools) (2024.2)\n",
            "Requirement already satisfied: scikit-learn>=1.1.0 in /usr/local/lib/python3.10/dist-packages (from woodwork>=0.28.0->featuretools) (1.5.2)\n",
            "Requirement already satisfied: importlib-resources>=5.10.0 in /usr/local/lib/python3.10/dist-packages (from woodwork>=0.28.0->featuretools) (6.4.5)\n",
            "Requirement already satisfied: six>=1.5 in /usr/local/lib/python3.10/dist-packages (from python-dateutil->holidays>=0.17->featuretools) (1.16.0)\n",
            "Requirement already satisfied: joblib>=1.2.0 in /usr/local/lib/python3.10/dist-packages (from scikit-learn>=1.1.0->woodwork>=0.28.0->featuretools) (1.4.2)\n",
            "Requirement already satisfied: threadpoolctl>=3.1.0 in /usr/local/lib/python3.10/dist-packages (from scikit-learn>=1.1.0->woodwork>=0.28.0->featuretools) (3.5.0)\n"
          ]
        }
      ]
    },
    {
      "cell_type": "code",
      "source": [
        "import featuretools as ft\n",
        "import pandas as pd"
      ],
      "metadata": {
        "id": "0CHTPVnqWrbh"
      },
      "execution_count": 25,
      "outputs": []
    },
    {
      "cell_type": "markdown",
      "source": [
        "##Load Dataset"
      ],
      "metadata": {
        "id": "dG9rpbHUhhcH"
      }
    },
    {
      "cell_type": "code",
      "source": [
        "# Create DataFrames for customers, products, orders, and order details\n",
        "\n",
        "customers = {\n",
        "    \"CustomerID\": [101, 102, 103, 104, 105],\n",
        "    \"Name\": ['John Doe', 'Jane Smith', 'Mike Jordan', 'Emma Stone', 'Chris Evans'],\n",
        "    \"Email\": ['john.doe@example.com', 'jane.smith@example.com', 'mike.jordan@example.com', 'emma.stone@example.com', 'chris.evans@example.com'],\n",
        "    \"SignupDate\": ['2023-01-10', '2023-01-15', '2023-01-20', '2023-02-01', '2023-02-05']\n",
        "}\n",
        "\n",
        "products = {\n",
        "    'ProductID': [201, 202, 203, 204, 205],\n",
        "    'Name': ['Laptop', 'Tablet', 'Smartphone', 'Headphones', 'Smartwatch'],\n",
        "    'Category': ['Electronics', 'Electronics', 'Electronics', 'Accessories', 'Electronics'],\n",
        "    'Price': [1000, 500, 800, 200, 300]\n",
        "}\n",
        "\n",
        "orders = {\n",
        "    \"OrderID\": [301, 302, 303, 304, 305, 306, 307],\n",
        "    \"CustomerID\": [101, 102, 103, 104, 105, 101, 102],\n",
        "    \"OrderDate\": ['2023-02-01', '2023-02-05', '2023-02-10', '2023-02-12', '2023-02-15', '2023-02-20', '2023-02-22'],\n",
        "    \"ShipDate\": ['2023-02-03', '2023-02-07', '2023-02-12', '2023-02-14', '2023-02-17', '2023-02-22', '2023-02-25']\n",
        "}\n",
        "\n",
        "order_details = {\n",
        "    \"OrderID\": [301, 302, 303, 304, 305, 306, 307, 304, 306, 307],\n",
        "    \"ProductID\": [201, 202, 203, 204, 205, 201, 202, 203, 204, 205],\n",
        "    \"Quantity\": [1, 2, 1, 1, 3, 2, 1, 1, 2, 1],\n",
        "    \"Discount\": [0, 0.1, 0, 0.05, 0.15, 0, 0.1, 0.05, 0, 0.1]\n",
        "}\n",
        "\n",
        "customers_df = pd.DataFrame(customers)\n",
        "products_df = pd.DataFrame(products)\n",
        "orders_df = pd.DataFrame(orders)\n",
        "order_details_df = pd.DataFrame(order_details)\n",
        "\n",
        "# Adding a combined key in the order details\n",
        "order_details_df['OrderDetailsID'] = order_details_df['OrderID'].astype(str) + '_' + order_details_df['ProductID'].astype(str)\n"
      ],
      "metadata": {
        "id": "muIBePvWZHPg"
      },
      "execution_count": 26,
      "outputs": []
    },
    {
      "cell_type": "code",
      "source": [
        "# Create new data\n",
        "new_customers = {\n",
        "    \"CustomerID\": [106, 107, 108, 109, 110],\n",
        "    \"Name\": ['Alice Brown', 'Bob Johnson', 'Charlie Davis', 'David Garcia', 'Emily Wilson'],\n",
        "    \"Email\": ['alice.brown@example.com', 'bob.johnson@example.com', 'charlie.davis@example.com', 'david.garcia@example.com', 'emily.wilson@example.com'],\n",
        "    \"SignupDate\": ['2023-02-10', '2023-02-15', '2023-02-20', '2023-03-01', '2023-03-05']\n",
        "}\n",
        "\n",
        "# Concatenate with existing DataFrame\n",
        "customers_df = pd.concat([customers_df, pd.DataFrame(new_customers)], ignore_index=True)\n",
        "\n",
        "# Create new data\n",
        "new_products = {\n",
        "    'ProductID': [206, 207, 208, 209, 210],\n",
        "    'Name': ['Mouse', 'Keyboard', 'Monitor', 'Printer', 'Webcam'],\n",
        "    'Category': ['Accessories', 'Accessories', 'Electronics', 'Electronics', 'Accessories'],\n",
        "    'Price': [50, 100, 300, 250, 150]\n",
        "}\n",
        "\n",
        "# Concatenate with existing DataFrame\n",
        "products_df = pd.concat([products_df, pd.DataFrame(new_products)], ignore_index=True)\n",
        "\n",
        "# Create new data\n",
        "new_orders = {\n",
        "    \"OrderID\": [308, 309, 310, 311, 312],\n",
        "    \"CustomerID\": [103, 104, 105, 101, 102],\n",
        "    \"OrderDate\": ['2023-03-01', '2023-03-05', '2023-03-10', '2023-03-12', '2023-03-15'],\n",
        "    \"ShipDate\": ['2023-03-03', '2023-03-07', '2023-03-12', '2023-03-14', '2023-03-17']\n",
        "}\n",
        "\n",
        "# Concatenate with existing DataFrame\n",
        "orders_df = pd.concat([orders_df, pd.DataFrame(new_orders)], ignore_index=True)\n",
        "\n",
        "# Create new data\n",
        "new_order_details = {\n",
        "    \"OrderID\": [308, 309, 310, 311, 312, 308, 309, 310],\n",
        "    \"ProductID\": [204, 205, 206, 207, 208, 201, 202, 203],\n",
        "    \"Quantity\": [1, 2, 1, 1, 3, 2, 1, 1],\n",
        "    \"Discount\": [0, 0.1, 0, 0.05, 0.15, 0, 0.1, 0.05]\n",
        "}\n",
        "\n",
        "# Concatenate with existing DataFrame\n",
        "order_details_df = pd.concat([order_details_df, pd.DataFrame(new_order_details)], ignore_index=True)\n",
        "\n",
        "# Update OrderDetailsID\n",
        "order_details_df['OrderDetailsID'] = order_details_df['OrderID'].astype(str) + '_' + order_details_df['ProductID'].astype(str)"
      ],
      "metadata": {
        "id": "mwVcejghPQV9"
      },
      "execution_count": 27,
      "outputs": []
    },
    {
      "source": [
        "# Check for missing values in each DataFrame\n",
        "print(customers_df.isnull().sum())\n",
        "print(products_df.isnull().sum())\n",
        "print(orders_df.isnull().sum())\n",
        "print(order_details_df.isnull().sum())\n",
        "\n",
        "# Check the data types\n",
        "print(customers_df.dtypes)\n",
        "print(products_df.dtypes)\n",
        "print(orders_df.dtypes)\n",
        "print(order_details_df.dtypes)"
      ],
      "cell_type": "code",
      "metadata": {
        "colab": {
          "base_uri": "https://localhost:8080/"
        },
        "id": "YLLqqONQN58o",
        "outputId": "488d1f97-c09d-40b7-cabc-590f349f6caa"
      },
      "execution_count": 28,
      "outputs": [
        {
          "output_type": "stream",
          "name": "stdout",
          "text": [
            "CustomerID    0\n",
            "Name          0\n",
            "Email         0\n",
            "SignupDate    0\n",
            "dtype: int64\n",
            "ProductID    0\n",
            "Name         0\n",
            "Category     0\n",
            "Price        0\n",
            "dtype: int64\n",
            "OrderID       0\n",
            "CustomerID    0\n",
            "OrderDate     0\n",
            "ShipDate      0\n",
            "dtype: int64\n",
            "OrderID           0\n",
            "ProductID         0\n",
            "Quantity          0\n",
            "Discount          0\n",
            "OrderDetailsID    0\n",
            "dtype: int64\n",
            "CustomerID     int64\n",
            "Name          object\n",
            "Email         object\n",
            "SignupDate    object\n",
            "dtype: object\n",
            "ProductID     int64\n",
            "Name         object\n",
            "Category     object\n",
            "Price         int64\n",
            "dtype: object\n",
            "OrderID        int64\n",
            "CustomerID     int64\n",
            "OrderDate     object\n",
            "ShipDate      object\n",
            "dtype: object\n",
            "OrderID             int64\n",
            "ProductID           int64\n",
            "Quantity            int64\n",
            "Discount          float64\n",
            "OrderDetailsID     object\n",
            "dtype: object\n"
          ]
        }
      ]
    },
    {
      "cell_type": "markdown",
      "source": [
        "## Entity Set"
      ],
      "metadata": {
        "id": "00T__urc8OfE"
      }
    },
    {
      "cell_type": "code",
      "source": [
        "# creating entity set 'entitySet'\n",
        "entitySet = ft.EntitySet(id=\"e-commerce_es\")\n",
        "\n",
        "#Add DataFrame to the EntitySet\n",
        "#Customers\n",
        "customers_entity = entitySet.add_dataframe(\n",
        "    dataframe=customers_df,  #  Dataframe containing the data.\n",
        "    dataframe_name='Customers',  # Unique name to associate with this dataframe\n",
        "    index='CustomerID',  # Unique identifier\n",
        "    time_index='SignupDate'\n",
        ")\n",
        "\n",
        "#Products\n",
        "products_entity = entitySet.add_dataframe(\n",
        "    dataframe=products_df,\n",
        "    dataframe_name='Products',\n",
        "    index='ProductID'\n",
        ")\n",
        "\n",
        "#Orders\n",
        "orders_entity = entitySet.add_dataframe(\n",
        "    dataframe=orders_df,\n",
        "    dataframe_name='Orders',\n",
        "    index='OrderID' ,\n",
        "    time_index='OrderDate',\n",
        ")\n",
        "\n",
        "#OrdersDetails\n",
        "orderDetails_entity = entitySet.add_dataframe(\n",
        "    dataframe=order_details_df,\n",
        "    dataframe_name='OrderDetails',\n",
        "    index='OrderDetailsID'\n",
        ")"
      ],
      "metadata": {
        "colab": {
          "base_uri": "https://localhost:8080/"
        },
        "id": "8w7lLJ-78fcn",
        "outputId": "a55ed4ab-8411-4eec-e791-c3ffd632abe8"
      },
      "execution_count": 29,
      "outputs": [
        {
          "output_type": "stream",
          "name": "stderr",
          "text": [
            "/usr/local/lib/python3.10/dist-packages/woodwork/type_sys/utils.py:33: UserWarning: Could not infer format, so each element will be parsed individually, falling back to `dateutil`. To ensure parsing is consistent and as-expected, please specify a format.\n",
            "  pd.to_datetime(\n",
            "/usr/local/lib/python3.10/dist-packages/woodwork/type_sys/utils.py:33: UserWarning: Could not infer format, so each element will be parsed individually, falling back to `dateutil`. To ensure parsing is consistent and as-expected, please specify a format.\n",
            "  pd.to_datetime(\n",
            "/usr/local/lib/python3.10/dist-packages/woodwork/type_sys/utils.py:33: UserWarning: Could not infer format, so each element will be parsed individually, falling back to `dateutil`. To ensure parsing is consistent and as-expected, please specify a format.\n",
            "  pd.to_datetime(\n",
            "/usr/local/lib/python3.10/dist-packages/woodwork/type_sys/utils.py:33: UserWarning: Could not infer format, so each element will be parsed individually, falling back to `dateutil`. To ensure parsing is consistent and as-expected, please specify a format.\n",
            "  pd.to_datetime(\n",
            "/usr/local/lib/python3.10/dist-packages/woodwork/type_sys/utils.py:33: UserWarning: Could not infer format, so each element will be parsed individually, falling back to `dateutil`. To ensure parsing is consistent and as-expected, please specify a format.\n",
            "  pd.to_datetime(\n",
            "/usr/local/lib/python3.10/dist-packages/woodwork/type_sys/utils.py:33: UserWarning: Could not infer format, so each element will be parsed individually, falling back to `dateutil`. To ensure parsing is consistent and as-expected, please specify a format.\n",
            "  pd.to_datetime(\n",
            "/usr/local/lib/python3.10/dist-packages/woodwork/type_sys/utils.py:33: UserWarning: Could not infer format, so each element will be parsed individually, falling back to `dateutil`. To ensure parsing is consistent and as-expected, please specify a format.\n",
            "  pd.to_datetime(\n",
            "/usr/local/lib/python3.10/dist-packages/woodwork/type_sys/utils.py:33: UserWarning: Could not infer format, so each element will be parsed individually, falling back to `dateutil`. To ensure parsing is consistent and as-expected, please specify a format.\n",
            "  pd.to_datetime(\n",
            "/usr/local/lib/python3.10/dist-packages/woodwork/type_sys/utils.py:33: UserWarning: Could not infer format, so each element will be parsed individually, falling back to `dateutil`. To ensure parsing is consistent and as-expected, please specify a format.\n",
            "  pd.to_datetime(\n",
            "/usr/local/lib/python3.10/dist-packages/woodwork/type_sys/utils.py:33: UserWarning: Could not infer format, so each element will be parsed individually, falling back to `dateutil`. To ensure parsing is consistent and as-expected, please specify a format.\n",
            "  pd.to_datetime(\n"
          ]
        }
      ]
    },
    {
      "cell_type": "markdown",
      "source": [
        "####Establish relationship"
      ],
      "metadata": {
        "id": "C9I4CWhID3G-"
      }
    },
    {
      "cell_type": "code",
      "source": [
        "# Define relationships\n",
        "entitySet.add_relationship(parent_dataframe_name='Customers', parent_column_name='CustomerID',\n",
        "                    child_dataframe_name='Orders', child_column_name='CustomerID')\n",
        "\n",
        "entitySet.add_relationship(parent_dataframe_name='Products', parent_column_name='ProductID',\n",
        "                    child_dataframe_name='OrderDetails', child_column_name='ProductID')\n",
        "\n",
        "entitySet.add_relationship(parent_dataframe_name='Orders', parent_column_name='OrderID',\n",
        "                    child_dataframe_name='OrderDetails', child_column_name='OrderID')"
      ],
      "metadata": {
        "colab": {
          "base_uri": "https://localhost:8080/"
        },
        "id": "x2PjWnvHEHL7",
        "outputId": "cfeefdf5-12aa-4fdb-94c6-03eb01122631"
      },
      "execution_count": 30,
      "outputs": [
        {
          "output_type": "execute_result",
          "data": {
            "text/plain": [
              "Entityset: e-commerce_es\n",
              "  DataFrames:\n",
              "    Customers [Rows: 10, Columns: 4]\n",
              "    Products [Rows: 10, Columns: 4]\n",
              "    Orders [Rows: 12, Columns: 4]\n",
              "    OrderDetails [Rows: 18, Columns: 5]\n",
              "  Relationships:\n",
              "    Orders.CustomerID -> Customers.CustomerID\n",
              "    OrderDetails.ProductID -> Products.ProductID\n",
              "    OrderDetails.OrderID -> Orders.OrderID"
            ]
          },
          "metadata": {},
          "execution_count": 30
        }
      ]
    },
    {
      "cell_type": "markdown",
      "source": [
        "####check entity"
      ],
      "metadata": {
        "id": "mim_dm3YgYWD"
      }
    },
    {
      "cell_type": "code",
      "source": [
        "print(entitySet)"
      ],
      "metadata": {
        "colab": {
          "base_uri": "https://localhost:8080/"
        },
        "id": "LgivuZjcg40s",
        "outputId": "edba45da-d923-46da-98d2-0dfb75787a94"
      },
      "execution_count": 31,
      "outputs": [
        {
          "output_type": "stream",
          "name": "stdout",
          "text": [
            "Entityset: e-commerce_es\n",
            "  DataFrames:\n",
            "    Customers [Rows: 10, Columns: 4]\n",
            "    Products [Rows: 10, Columns: 4]\n",
            "    Orders [Rows: 12, Columns: 4]\n",
            "    OrderDetails [Rows: 18, Columns: 5]\n",
            "  Relationships:\n",
            "    Orders.CustomerID -> Customers.CustomerID\n",
            "    OrderDetails.ProductID -> Products.ProductID\n",
            "    OrderDetails.OrderID -> Orders.OrderID\n"
          ]
        }
      ]
    },
    {
      "cell_type": "markdown",
      "source": [
        "#Deep Feature Synthesis (DFS)"
      ],
      "metadata": {
        "id": "rBkRrC7nxsE4"
      }
    },
    {
      "cell_type": "code",
      "source": [
        "# Generate features with DFS for Orders fact table\n",
        "feature_matrix, feature_defs = ft.dfs(\n",
        "    entityset=entitySet,\n",
        "    target_dataframe_name=\"Orders\",\n",
        "    verbose=True,\n",
        "    max_depth=3,\n",
        "    agg_primitives=['sum', 'mean', 'count', 'max', 'min'],\n",
        "    trans_primitives=['month', 'year', 'weekday']\n",
        ")\n"
      ],
      "metadata": {
        "colab": {
          "base_uri": "https://localhost:8080/"
        },
        "id": "nYPhdn25xwYt",
        "outputId": "f83dbd03-dacf-4be6-95bf-1bdc71efdbcd"
      },
      "execution_count": 32,
      "outputs": [
        {
          "output_type": "stream",
          "name": "stdout",
          "text": [
            "Built 95 features\n",
            "Elapsed: 00:00 | Progress:   0%|          "
          ]
        },
        {
          "output_type": "stream",
          "name": "stderr",
          "text": [
            "/usr/local/lib/python3.10/dist-packages/featuretools/computational_backends/feature_set_calculator.py:785: FutureWarning: The provided callable <function max at 0x7d405edf4700> is currently using SeriesGroupBy.max. In a future version of pandas, the provided callable will be used directly. To keep current behavior pass the string \"max\" instead.\n",
            "  ).agg(to_agg)\n",
            "/usr/local/lib/python3.10/dist-packages/featuretools/computational_backends/feature_set_calculator.py:785: FutureWarning: The provided callable <function mean at 0x7d405edf5000> is currently using SeriesGroupBy.mean. In a future version of pandas, the provided callable will be used directly. To keep current behavior pass the string \"mean\" instead.\n",
            "  ).agg(to_agg)\n",
            "/usr/local/lib/python3.10/dist-packages/featuretools/computational_backends/feature_set_calculator.py:785: FutureWarning: The provided callable <function min at 0x7d405edf4820> is currently using SeriesGroupBy.min. In a future version of pandas, the provided callable will be used directly. To keep current behavior pass the string \"min\" instead.\n",
            "  ).agg(to_agg)\n",
            "/usr/local/lib/python3.10/dist-packages/featuretools/computational_backends/feature_set_calculator.py:785: FutureWarning: The provided callable <function sum at 0x7d405edf40d0> is currently using SeriesGroupBy.sum. In a future version of pandas, the provided callable will be used directly. To keep current behavior pass the string \"sum\" instead.\n",
            "  ).agg(to_agg)\n"
          ]
        },
        {
          "output_type": "stream",
          "name": "stdout",
          "text": [
            "\rElapsed: 00:00 | Progress:  48%|████▊     "
          ]
        },
        {
          "output_type": "stream",
          "name": "stderr",
          "text": [
            "/usr/local/lib/python3.10/dist-packages/featuretools/computational_backends/feature_set_calculator.py:785: FutureWarning: The provided callable <function mean at 0x7d405edf5000> is currently using SeriesGroupBy.mean. In a future version of pandas, the provided callable will be used directly. To keep current behavior pass the string \"mean\" instead.\n",
            "  ).agg(to_agg)\n",
            "/usr/local/lib/python3.10/dist-packages/featuretools/computational_backends/feature_set_calculator.py:785: FutureWarning: The provided callable <function sum at 0x7d405edf40d0> is currently using SeriesGroupBy.sum. In a future version of pandas, the provided callable will be used directly. To keep current behavior pass the string \"sum\" instead.\n",
            "  ).agg(to_agg)\n",
            "/usr/local/lib/python3.10/dist-packages/featuretools/computational_backends/feature_set_calculator.py:785: FutureWarning: The provided callable <function max at 0x7d405edf4700> is currently using SeriesGroupBy.max. In a future version of pandas, the provided callable will be used directly. To keep current behavior pass the string \"max\" instead.\n",
            "  ).agg(to_agg)\n",
            "/usr/local/lib/python3.10/dist-packages/featuretools/computational_backends/feature_set_calculator.py:785: FutureWarning: The provided callable <function min at 0x7d405edf4820> is currently using SeriesGroupBy.min. In a future version of pandas, the provided callable will be used directly. To keep current behavior pass the string \"min\" instead.\n",
            "  ).agg(to_agg)\n",
            "/usr/local/lib/python3.10/dist-packages/featuretools/computational_backends/feature_set_calculator.py:785: FutureWarning: The provided callable <function min at 0x7d405edf4820> is currently using SeriesGroupBy.min. In a future version of pandas, the provided callable will be used directly. To keep current behavior pass the string \"min\" instead.\n",
            "  ).agg(to_agg)\n",
            "/usr/local/lib/python3.10/dist-packages/featuretools/computational_backends/feature_set_calculator.py:785: FutureWarning: The provided callable <function sum at 0x7d405edf40d0> is currently using SeriesGroupBy.sum. In a future version of pandas, the provided callable will be used directly. To keep current behavior pass the string \"sum\" instead.\n",
            "  ).agg(to_agg)\n",
            "/usr/local/lib/python3.10/dist-packages/featuretools/computational_backends/feature_set_calculator.py:785: FutureWarning: The provided callable <function max at 0x7d405edf4700> is currently using SeriesGroupBy.max. In a future version of pandas, the provided callable will be used directly. To keep current behavior pass the string \"max\" instead.\n",
            "  ).agg(to_agg)\n",
            "/usr/local/lib/python3.10/dist-packages/featuretools/computational_backends/feature_set_calculator.py:785: FutureWarning: The provided callable <function mean at 0x7d405edf5000> is currently using SeriesGroupBy.mean. In a future version of pandas, the provided callable will be used directly. To keep current behavior pass the string \"mean\" instead.\n",
            "  ).agg(to_agg)\n",
            "/usr/local/lib/python3.10/dist-packages/featuretools/computational_backends/feature_set_calculator.py:785: FutureWarning: The provided callable <function sum at 0x7d405edf40d0> is currently using SeriesGroupBy.sum. In a future version of pandas, the provided callable will be used directly. To keep current behavior pass the string \"sum\" instead.\n",
            "  ).agg(to_agg)\n",
            "/usr/local/lib/python3.10/dist-packages/featuretools/computational_backends/feature_set_calculator.py:785: FutureWarning: The provided callable <function max at 0x7d405edf4700> is currently using SeriesGroupBy.max. In a future version of pandas, the provided callable will be used directly. To keep current behavior pass the string \"max\" instead.\n",
            "  ).agg(to_agg)\n",
            "/usr/local/lib/python3.10/dist-packages/featuretools/computational_backends/feature_set_calculator.py:785: FutureWarning: The provided callable <function mean at 0x7d405edf5000> is currently using SeriesGroupBy.mean. In a future version of pandas, the provided callable will be used directly. To keep current behavior pass the string \"mean\" instead.\n",
            "  ).agg(to_agg)\n",
            "/usr/local/lib/python3.10/dist-packages/featuretools/computational_backends/feature_set_calculator.py:785: FutureWarning: The provided callable <function min at 0x7d405edf4820> is currently using SeriesGroupBy.min. In a future version of pandas, the provided callable will be used directly. To keep current behavior pass the string \"min\" instead.\n",
            "  ).agg(to_agg)\n",
            "/usr/local/lib/python3.10/dist-packages/featuretools/computational_backends/feature_set_calculator.py:785: FutureWarning: The provided callable <function mean at 0x7d405edf5000> is currently using SeriesGroupBy.mean. In a future version of pandas, the provided callable will be used directly. To keep current behavior pass the string \"mean\" instead.\n",
            "  ).agg(to_agg)\n",
            "/usr/local/lib/python3.10/dist-packages/featuretools/computational_backends/feature_set_calculator.py:785: FutureWarning: The provided callable <function sum at 0x7d405edf40d0> is currently using SeriesGroupBy.sum. In a future version of pandas, the provided callable will be used directly. To keep current behavior pass the string \"sum\" instead.\n",
            "  ).agg(to_agg)\n",
            "/usr/local/lib/python3.10/dist-packages/featuretools/computational_backends/feature_set_calculator.py:785: FutureWarning: The provided callable <function min at 0x7d405edf4820> is currently using SeriesGroupBy.min. In a future version of pandas, the provided callable will be used directly. To keep current behavior pass the string \"min\" instead.\n",
            "  ).agg(to_agg)\n",
            "/usr/local/lib/python3.10/dist-packages/featuretools/computational_backends/feature_set_calculator.py:785: FutureWarning: The provided callable <function max at 0x7d405edf4700> is currently using SeriesGroupBy.max. In a future version of pandas, the provided callable will be used directly. To keep current behavior pass the string \"max\" instead.\n",
            "  ).agg(to_agg)\n"
          ]
        },
        {
          "output_type": "stream",
          "name": "stdout",
          "text": [
            "Elapsed: 00:00 | Progress: 100%|██████████\n"
          ]
        }
      ]
    },
    {
      "cell_type": "code",
      "source": [
        "# PRINT THE GENERATED FEATURE MATRIX\n",
        "print(feature_matrix.head())\n",
        "feature_matrix.columns"
      ],
      "metadata": {
        "colab": {
          "base_uri": "https://localhost:8080/"
        },
        "id": "2IxvGbB0zbeH",
        "outputId": "ddb53285-384f-4e0c-accb-cfd36ef49d37"
      },
      "execution_count": 33,
      "outputs": [
        {
          "output_type": "stream",
          "name": "stdout",
          "text": [
            "         CustomerID  COUNT(OrderDetails)  MAX(OrderDetails.Discount)  \\\n",
            "OrderID                                                                \n",
            "301             101                    1                        0.00   \n",
            "302             102                    1                        0.10   \n",
            "303             103                    1                        0.00   \n",
            "304             104                    2                        0.05   \n",
            "305             105                    1                        0.15   \n",
            "\n",
            "         MAX(OrderDetails.Quantity)  MEAN(OrderDetails.Discount)  \\\n",
            "OrderID                                                            \n",
            "301                             1.0                         0.00   \n",
            "302                             2.0                         0.10   \n",
            "303                             1.0                         0.00   \n",
            "304                             1.0                         0.05   \n",
            "305                             3.0                         0.15   \n",
            "\n",
            "         MEAN(OrderDetails.Quantity)  MIN(OrderDetails.Discount)  \\\n",
            "OrderID                                                            \n",
            "301                              1.0                        0.00   \n",
            "302                              2.0                        0.10   \n",
            "303                              1.0                        0.00   \n",
            "304                              1.0                        0.05   \n",
            "305                              3.0                        0.15   \n",
            "\n",
            "         MIN(OrderDetails.Quantity)  SUM(OrderDetails.Discount)  \\\n",
            "OrderID                                                           \n",
            "301                             1.0                        0.00   \n",
            "302                             2.0                        0.10   \n",
            "303                             1.0                        0.00   \n",
            "304                             1.0                        0.10   \n",
            "305                             3.0                        0.15   \n",
            "\n",
            "         SUM(OrderDetails.Quantity)  ...  \\\n",
            "OrderID                              ...   \n",
            "301                             1.0  ...   \n",
            "302                             2.0  ...   \n",
            "303                             1.0  ...   \n",
            "304                             2.0  ...   \n",
            "305                             3.0  ...   \n",
            "\n",
            "        Customers.SUM(Orders.MAX(OrderDetails.Discount))  \\\n",
            "OrderID                                                    \n",
            "301                                                 0.05   \n",
            "302                                                 0.35   \n",
            "303                                                 0.00   \n",
            "304                                                 0.15   \n",
            "305                                                 0.20   \n",
            "\n",
            "        Customers.SUM(Orders.MAX(OrderDetails.Quantity))  \\\n",
            "OrderID                                                    \n",
            "301                                                  4.0   \n",
            "302                                                  6.0   \n",
            "303                                                  3.0   \n",
            "304                                                  3.0   \n",
            "305                                                  4.0   \n",
            "\n",
            "        Customers.SUM(Orders.MEAN(OrderDetails.Discount))  \\\n",
            "OrderID                                                     \n",
            "301                                                 0.050   \n",
            "302                                                 0.350   \n",
            "303                                                 0.000   \n",
            "304                                                 0.150   \n",
            "305                                                 0.175   \n",
            "\n",
            "        Customers.SUM(Orders.MEAN(OrderDetails.Quantity))  \\\n",
            "OrderID                                                     \n",
            "301                                                   4.0   \n",
            "302                                                   6.0   \n",
            "303                                                   2.5   \n",
            "304                                                   2.5   \n",
            "305                                                   4.0   \n",
            "\n",
            "        Customers.SUM(Orders.MIN(OrderDetails.Discount))  \\\n",
            "OrderID                                                    \n",
            "301                                                 0.05   \n",
            "302                                                 0.35   \n",
            "303                                                 0.00   \n",
            "304                                                 0.15   \n",
            "305                                                 0.15   \n",
            "\n",
            "        Customers.SUM(Orders.MIN(OrderDetails.Quantity))  \\\n",
            "OrderID                                                    \n",
            "301                                                  4.0   \n",
            "302                                                  6.0   \n",
            "303                                                  2.0   \n",
            "304                                                  2.0   \n",
            "305                                                  4.0   \n",
            "\n",
            "         Customers.MAX(OrderDetails.Products.Price)  \\\n",
            "OrderID                                               \n",
            "301                                          1000.0   \n",
            "302                                           500.0   \n",
            "303                                          1000.0   \n",
            "304                                           800.0   \n",
            "305                                           800.0   \n",
            "\n",
            "         Customers.MEAN(OrderDetails.Products.Price)  \\\n",
            "OrderID                                                \n",
            "301                                       575.000000   \n",
            "302                                       400.000000   \n",
            "303                                       666.666667   \n",
            "304                                       450.000000   \n",
            "305                                       383.333333   \n",
            "\n",
            "         Customers.MIN(OrderDetails.Products.Price)  \\\n",
            "OrderID                                               \n",
            "301                                           100.0   \n",
            "302                                           300.0   \n",
            "303                                           200.0   \n",
            "304                                           200.0   \n",
            "305                                            50.0   \n",
            "\n",
            "         Customers.SUM(OrderDetails.Products.Price)  \n",
            "OrderID                                              \n",
            "301                                          2300.0  \n",
            "302                                          1600.0  \n",
            "303                                          2000.0  \n",
            "304                                          1800.0  \n",
            "305                                          1150.0  \n",
            "\n",
            "[5 rows x 95 columns]\n"
          ]
        },
        {
          "output_type": "execute_result",
          "data": {
            "text/plain": [
              "Index(['CustomerID', 'COUNT(OrderDetails)', 'MAX(OrderDetails.Discount)',\n",
              "       'MAX(OrderDetails.Quantity)', 'MEAN(OrderDetails.Discount)',\n",
              "       'MEAN(OrderDetails.Quantity)', 'MIN(OrderDetails.Discount)',\n",
              "       'MIN(OrderDetails.Quantity)', 'SUM(OrderDetails.Discount)',\n",
              "       'SUM(OrderDetails.Quantity)', 'MONTH(OrderDate)', 'MONTH(ShipDate)',\n",
              "       'WEEKDAY(OrderDate)', 'WEEKDAY(ShipDate)', 'YEAR(OrderDate)',\n",
              "       'YEAR(ShipDate)', 'MAX(OrderDetails.Products.Price)',\n",
              "       'MEAN(OrderDetails.Products.Price)', 'MIN(OrderDetails.Products.Price)',\n",
              "       'SUM(OrderDetails.Products.Price)', 'Customers.COUNT(Orders)',\n",
              "       'Customers.COUNT(OrderDetails)', 'Customers.MAX(OrderDetails.Discount)',\n",
              "       'Customers.MAX(OrderDetails.Quantity)',\n",
              "       'Customers.MEAN(OrderDetails.Discount)',\n",
              "       'Customers.MEAN(OrderDetails.Quantity)',\n",
              "       'Customers.MIN(OrderDetails.Discount)',\n",
              "       'Customers.MIN(OrderDetails.Quantity)',\n",
              "       'Customers.SUM(OrderDetails.Discount)',\n",
              "       'Customers.SUM(OrderDetails.Quantity)', 'Customers.MONTH(SignupDate)',\n",
              "       'Customers.WEEKDAY(SignupDate)', 'Customers.YEAR(SignupDate)',\n",
              "       'MAX(OrderDetails.Products.COUNT(OrderDetails))',\n",
              "       'MAX(OrderDetails.Products.MEAN(OrderDetails.Discount))',\n",
              "       'MAX(OrderDetails.Products.MEAN(OrderDetails.Quantity))',\n",
              "       'MAX(OrderDetails.Products.MIN(OrderDetails.Discount))',\n",
              "       'MAX(OrderDetails.Products.MIN(OrderDetails.Quantity))',\n",
              "       'MAX(OrderDetails.Products.SUM(OrderDetails.Discount))',\n",
              "       'MAX(OrderDetails.Products.SUM(OrderDetails.Quantity))',\n",
              "       'MEAN(OrderDetails.Products.COUNT(OrderDetails))',\n",
              "       'MEAN(OrderDetails.Products.MAX(OrderDetails.Discount))',\n",
              "       'MEAN(OrderDetails.Products.MAX(OrderDetails.Quantity))',\n",
              "       'MEAN(OrderDetails.Products.MEAN(OrderDetails.Discount))',\n",
              "       'MEAN(OrderDetails.Products.MEAN(OrderDetails.Quantity))',\n",
              "       'MEAN(OrderDetails.Products.MIN(OrderDetails.Discount))',\n",
              "       'MEAN(OrderDetails.Products.MIN(OrderDetails.Quantity))',\n",
              "       'MEAN(OrderDetails.Products.SUM(OrderDetails.Discount))',\n",
              "       'MEAN(OrderDetails.Products.SUM(OrderDetails.Quantity))',\n",
              "       'MIN(OrderDetails.Products.COUNT(OrderDetails))',\n",
              "       'MIN(OrderDetails.Products.MAX(OrderDetails.Discount))',\n",
              "       'MIN(OrderDetails.Products.MAX(OrderDetails.Quantity))',\n",
              "       'MIN(OrderDetails.Products.MEAN(OrderDetails.Discount))',\n",
              "       'MIN(OrderDetails.Products.MEAN(OrderDetails.Quantity))',\n",
              "       'MIN(OrderDetails.Products.SUM(OrderDetails.Discount))',\n",
              "       'MIN(OrderDetails.Products.SUM(OrderDetails.Quantity))',\n",
              "       'SUM(OrderDetails.Products.MAX(OrderDetails.Discount))',\n",
              "       'SUM(OrderDetails.Products.MAX(OrderDetails.Quantity))',\n",
              "       'SUM(OrderDetails.Products.MEAN(OrderDetails.Discount))',\n",
              "       'SUM(OrderDetails.Products.MEAN(OrderDetails.Quantity))',\n",
              "       'SUM(OrderDetails.Products.MIN(OrderDetails.Discount))',\n",
              "       'SUM(OrderDetails.Products.MIN(OrderDetails.Quantity))',\n",
              "       'Customers.MAX(Orders.COUNT(OrderDetails))',\n",
              "       'Customers.MAX(Orders.MEAN(OrderDetails.Discount))',\n",
              "       'Customers.MAX(Orders.MEAN(OrderDetails.Quantity))',\n",
              "       'Customers.MAX(Orders.MIN(OrderDetails.Discount))',\n",
              "       'Customers.MAX(Orders.MIN(OrderDetails.Quantity))',\n",
              "       'Customers.MAX(Orders.SUM(OrderDetails.Discount))',\n",
              "       'Customers.MAX(Orders.SUM(OrderDetails.Quantity))',\n",
              "       'Customers.MEAN(Orders.COUNT(OrderDetails))',\n",
              "       'Customers.MEAN(Orders.MAX(OrderDetails.Discount))',\n",
              "       'Customers.MEAN(Orders.MAX(OrderDetails.Quantity))',\n",
              "       'Customers.MEAN(Orders.MEAN(OrderDetails.Discount))',\n",
              "       'Customers.MEAN(Orders.MEAN(OrderDetails.Quantity))',\n",
              "       'Customers.MEAN(Orders.MIN(OrderDetails.Discount))',\n",
              "       'Customers.MEAN(Orders.MIN(OrderDetails.Quantity))',\n",
              "       'Customers.MEAN(Orders.SUM(OrderDetails.Discount))',\n",
              "       'Customers.MEAN(Orders.SUM(OrderDetails.Quantity))',\n",
              "       'Customers.MIN(Orders.COUNT(OrderDetails))',\n",
              "       'Customers.MIN(Orders.MAX(OrderDetails.Discount))',\n",
              "       'Customers.MIN(Orders.MAX(OrderDetails.Quantity))',\n",
              "       'Customers.MIN(Orders.MEAN(OrderDetails.Discount))',\n",
              "       'Customers.MIN(Orders.MEAN(OrderDetails.Quantity))',\n",
              "       'Customers.MIN(Orders.SUM(OrderDetails.Discount))',\n",
              "       'Customers.MIN(Orders.SUM(OrderDetails.Quantity))',\n",
              "       'Customers.SUM(Orders.MAX(OrderDetails.Discount))',\n",
              "       'Customers.SUM(Orders.MAX(OrderDetails.Quantity))',\n",
              "       'Customers.SUM(Orders.MEAN(OrderDetails.Discount))',\n",
              "       'Customers.SUM(Orders.MEAN(OrderDetails.Quantity))',\n",
              "       'Customers.SUM(Orders.MIN(OrderDetails.Discount))',\n",
              "       'Customers.SUM(Orders.MIN(OrderDetails.Quantity))',\n",
              "       'Customers.MAX(OrderDetails.Products.Price)',\n",
              "       'Customers.MEAN(OrderDetails.Products.Price)',\n",
              "       'Customers.MIN(OrderDetails.Products.Price)',\n",
              "       'Customers.SUM(OrderDetails.Products.Price)'],\n",
              "      dtype='object')"
            ]
          },
          "metadata": {},
          "execution_count": 33
        }
      ]
    },
    {
      "cell_type": "code",
      "source": [
        "feature_matrix.to_csv('feature_matrix.csv', index=False)"
      ],
      "metadata": {
        "id": "qRSncFF3QOVP"
      },
      "execution_count": 34,
      "outputs": []
    }
  ]
}