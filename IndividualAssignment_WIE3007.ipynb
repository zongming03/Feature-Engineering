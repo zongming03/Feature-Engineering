{
  "nbformat": 4,
  "nbformat_minor": 0,
  "metadata": {
    "colab": {
      "provenance": [],
      "toc_visible": true
    },
    "kernelspec": {
      "name": "python3",
      "display_name": "Python 3"
    },
    "language_info": {
      "name": "python"
    }
  },
  "cells": [
    {
      "cell_type": "code",
      "source": [
        "!pip install featuretools"
      ],
      "metadata": {
        "colab": {
          "base_uri": "https://localhost:8080/"
        },
        "id": "NvBOMXyiQZwM",
        "outputId": "c1a647cc-81d5-419d-ccb1-3d750ce93e63"
      },
      "execution_count": null,
      "outputs": [
        {
          "output_type": "stream",
          "name": "stdout",
          "text": [
            "Requirement already satisfied: featuretools in /usr/local/lib/python3.10/dist-packages (1.31.0)\n",
            "Requirement already satisfied: cloudpickle>=1.5.0 in /usr/local/lib/python3.10/dist-packages (from featuretools) (3.1.0)\n",
            "Requirement already satisfied: holidays>=0.17 in /usr/local/lib/python3.10/dist-packages (from featuretools) (0.59)\n",
            "Requirement already satisfied: numpy>=1.25.0 in /usr/local/lib/python3.10/dist-packages (from featuretools) (1.26.4)\n",
            "Requirement already satisfied: packaging>=20.0 in /usr/local/lib/python3.10/dist-packages (from featuretools) (24.1)\n",
            "Requirement already satisfied: pandas>=2.0.0 in /usr/local/lib/python3.10/dist-packages (from featuretools) (2.2.2)\n",
            "Requirement already satisfied: psutil>=5.7.0 in /usr/local/lib/python3.10/dist-packages (from featuretools) (5.9.5)\n",
            "Requirement already satisfied: scipy>=1.10.0 in /usr/local/lib/python3.10/dist-packages (from featuretools) (1.13.1)\n",
            "Requirement already satisfied: tqdm>=4.66.3 in /usr/local/lib/python3.10/dist-packages (from featuretools) (4.66.6)\n",
            "Requirement already satisfied: woodwork>=0.28.0 in /usr/local/lib/python3.10/dist-packages (from featuretools) (0.31.0)\n",
            "Requirement already satisfied: python-dateutil in /usr/local/lib/python3.10/dist-packages (from holidays>=0.17->featuretools) (2.8.2)\n",
            "Requirement already satisfied: pytz>=2020.1 in /usr/local/lib/python3.10/dist-packages (from pandas>=2.0.0->featuretools) (2024.2)\n",
            "Requirement already satisfied: tzdata>=2022.7 in /usr/local/lib/python3.10/dist-packages (from pandas>=2.0.0->featuretools) (2024.2)\n",
            "Requirement already satisfied: scikit-learn>=1.1.0 in /usr/local/lib/python3.10/dist-packages (from woodwork>=0.28.0->featuretools) (1.5.2)\n",
            "Requirement already satisfied: importlib-resources>=5.10.0 in /usr/local/lib/python3.10/dist-packages (from woodwork>=0.28.0->featuretools) (6.4.5)\n",
            "Requirement already satisfied: six>=1.5 in /usr/local/lib/python3.10/dist-packages (from python-dateutil->holidays>=0.17->featuretools) (1.16.0)\n",
            "Requirement already satisfied: joblib>=1.2.0 in /usr/local/lib/python3.10/dist-packages (from scikit-learn>=1.1.0->woodwork>=0.28.0->featuretools) (1.4.2)\n",
            "Requirement already satisfied: threadpoolctl>=3.1.0 in /usr/local/lib/python3.10/dist-packages (from scikit-learn>=1.1.0->woodwork>=0.28.0->featuretools) (3.5.0)\n"
          ]
        }
      ]
    },
    {
      "cell_type": "code",
      "source": [
        "import featuretools as ft\n",
        "import pandas as pd"
      ],
      "metadata": {
        "id": "0CHTPVnqWrbh"
      },
      "execution_count": null,
      "outputs": []
    },
    {
      "cell_type": "markdown",
      "source": [
        "##Load Dataset"
      ],
      "metadata": {
        "id": "dG9rpbHUhhcH"
      }
    },
    {
      "cell_type": "code",
      "source": [
        "# Create DataFrames for customers, products, orders, and order details\n",
        "\n",
        "customers = {\n",
        "    \"CustomerID\": [101, 102, 103, 104, 105],\n",
        "    \"Name\": ['John Doe', 'Jane Smith', 'Mike Jordan', 'Emma Stone', 'Chris Evans'],\n",
        "    \"Email\": ['john.doe@example.com', 'jane.smith@example.com', 'mike.jordan@example.com', 'emma.stone@example.com', 'chris.evans@example.com'],\n",
        "    \"SignupDate\": ['2023-01-10', '2023-01-15', '2023-01-20', '2023-02-01', '2023-02-05']\n",
        "}\n",
        "\n",
        "products = {\n",
        "    'ProductID': [201, 202, 203, 204, 205],\n",
        "    'Name': ['Laptop', 'Tablet', 'Smartphone', 'Headphones', 'Smartwatch'],\n",
        "    'Category': ['Electronics', 'Electronics', 'Electronics', 'Accessories', 'Electronics'],\n",
        "    'Price': [1000, 500, 800, 200, 300]\n",
        "}\n",
        "\n",
        "orders = {\n",
        "    \"OrderID\": [301, 302, 303, 304, 305, 306, 307],\n",
        "    \"CustomerID\": [101, 102, 103, 104, 105, 101, 102],\n",
        "    \"OrderDate\": ['2023-02-01', '2023-02-05', '2023-02-10', '2023-02-12', '2023-02-15', '2023-02-20', '2023-02-22'],\n",
        "    \"ShipDate\": ['2023-02-03', '2023-02-07', '2023-02-12', '2023-02-14', '2023-02-17', '2023-02-22', '2023-02-25']\n",
        "}\n",
        "\n",
        "order_details = {\n",
        "    \"OrderID\": [301, 302, 303, 304, 305, 306, 307, 304, 306, 307],\n",
        "    \"ProductID\": [201, 202, 203, 204, 205, 201, 202, 203, 204, 205],\n",
        "    \"Quantity\": [1, 2, 1, 1, 3, 2, 1, 1, 2, 1],\n",
        "    \"Discount\": [0, 0.1, 0, 0.05, 0.15, 0, 0.1, 0.05, 0, 0.1]\n",
        "}\n",
        "\n",
        "customers_df = pd.DataFrame(customers)\n",
        "products_df = pd.DataFrame(products)\n",
        "orders_df = pd.DataFrame(orders)\n",
        "order_details_df = pd.DataFrame(order_details)\n",
        "\n",
        "# Adding a combined key in the order details\n",
        "order_details_df['OrderDetailsID'] = order_details_df['OrderID'].astype(str) + '_' + order_details_df['ProductID'].astype(str)\n"
      ],
      "metadata": {
        "id": "muIBePvWZHPg"
      },
      "execution_count": null,
      "outputs": []
    },
    {
      "cell_type": "markdown",
      "source": [
        "## Entity Set"
      ],
      "metadata": {
        "id": "00T__urc8OfE"
      }
    },
    {
      "cell_type": "code",
      "source": [
        "# creating and entity set 'entitySet'\n",
        "entitySet = ft.EntitySet(id=\"e-commerce_es\")\n",
        "\n",
        "#Add DataFrame to the EntitySet\n",
        "#Customers\n",
        "customers_entity = entitySet.add_dataframe(\n",
        "    dataframe=customers_df,  #  Dataframe containing the data.\n",
        "    dataframe_name='Customers',  # Unique name to associate with this dataframe\n",
        "    index='CustomerID',  # Unique identifier\n",
        "    time_index='SignupDate'\n",
        ")\n",
        "\n",
        "#Products\n",
        "products_entity = entitySet.add_dataframe(\n",
        "    dataframe=products_df,\n",
        "    dataframe_name='Products',\n",
        "    index='ProductID'\n",
        ")\n",
        "\n",
        "#Orders\n",
        "orders_entity = entitySet.add_dataframe(\n",
        "    dataframe=orders_df,\n",
        "    dataframe_name='Orders',\n",
        "    index='OrderID' ,\n",
        "    time_index='OrderDate',\n",
        ")\n",
        "\n",
        "#OrdersDetails\n",
        "orderDetails_entity = entitySet.add_dataframe(\n",
        "    dataframe=order_details_df,\n",
        "    dataframe_name='OrderDetails',\n",
        "    index='OrderDetailsID'\n",
        ")"
      ],
      "metadata": {
        "colab": {
          "base_uri": "https://localhost:8080/"
        },
        "id": "8w7lLJ-78fcn",
        "outputId": "4a4590a5-2c76-4757-abeb-073caa0db8e2"
      },
      "execution_count": null,
      "outputs": [
        {
          "output_type": "stream",
          "name": "stderr",
          "text": [
            "/usr/local/lib/python3.10/dist-packages/woodwork/type_sys/utils.py:33: UserWarning: Could not infer format, so each element will be parsed individually, falling back to `dateutil`. To ensure parsing is consistent and as-expected, please specify a format.\n",
            "  pd.to_datetime(\n",
            "/usr/local/lib/python3.10/dist-packages/woodwork/type_sys/utils.py:33: UserWarning: Could not infer format, so each element will be parsed individually, falling back to `dateutil`. To ensure parsing is consistent and as-expected, please specify a format.\n",
            "  pd.to_datetime(\n",
            "/usr/local/lib/python3.10/dist-packages/woodwork/type_sys/utils.py:33: UserWarning: Could not infer format, so each element will be parsed individually, falling back to `dateutil`. To ensure parsing is consistent and as-expected, please specify a format.\n",
            "  pd.to_datetime(\n",
            "/usr/local/lib/python3.10/dist-packages/woodwork/type_sys/utils.py:33: UserWarning: Could not infer format, so each element will be parsed individually, falling back to `dateutil`. To ensure parsing is consistent and as-expected, please specify a format.\n",
            "  pd.to_datetime(\n",
            "/usr/local/lib/python3.10/dist-packages/woodwork/type_sys/utils.py:33: UserWarning: Could not infer format, so each element will be parsed individually, falling back to `dateutil`. To ensure parsing is consistent and as-expected, please specify a format.\n",
            "  pd.to_datetime(\n",
            "/usr/local/lib/python3.10/dist-packages/woodwork/type_sys/utils.py:33: UserWarning: Could not infer format, so each element will be parsed individually, falling back to `dateutil`. To ensure parsing is consistent and as-expected, please specify a format.\n",
            "  pd.to_datetime(\n",
            "/usr/local/lib/python3.10/dist-packages/woodwork/type_sys/utils.py:33: UserWarning: Could not infer format, so each element will be parsed individually, falling back to `dateutil`. To ensure parsing is consistent and as-expected, please specify a format.\n",
            "  pd.to_datetime(\n",
            "/usr/local/lib/python3.10/dist-packages/woodwork/type_sys/utils.py:33: UserWarning: Could not infer format, so each element will be parsed individually, falling back to `dateutil`. To ensure parsing is consistent and as-expected, please specify a format.\n",
            "  pd.to_datetime(\n",
            "/usr/local/lib/python3.10/dist-packages/woodwork/type_sys/utils.py:33: UserWarning: Could not infer format, so each element will be parsed individually, falling back to `dateutil`. To ensure parsing is consistent and as-expected, please specify a format.\n",
            "  pd.to_datetime(\n",
            "/usr/local/lib/python3.10/dist-packages/woodwork/type_sys/utils.py:33: UserWarning: Could not infer format, so each element will be parsed individually, falling back to `dateutil`. To ensure parsing is consistent and as-expected, please specify a format.\n",
            "  pd.to_datetime(\n"
          ]
        }
      ]
    },
    {
      "cell_type": "markdown",
      "source": [
        "####Establish relationship"
      ],
      "metadata": {
        "id": "C9I4CWhID3G-"
      }
    },
    {
      "cell_type": "code",
      "source": [
        "# Define relationships\n",
        "entitySet.add_relationship(parent_dataframe_name='Customers', parent_column_name='CustomerID',\n",
        "                    child_dataframe_name='Orders', child_column_name='CustomerID')\n",
        "\n",
        "entitySet.add_relationship(parent_dataframe_name='Products', parent_column_name='ProductID',\n",
        "                    child_dataframe_name='OrderDetails', child_column_name='ProductID')\n",
        "\n",
        "entitySet.add_relationship(parent_dataframe_name='Orders', parent_column_name='OrderID',\n",
        "                    child_dataframe_name='OrderDetails', child_column_name='OrderID')"
      ],
      "metadata": {
        "colab": {
          "base_uri": "https://localhost:8080/"
        },
        "id": "x2PjWnvHEHL7",
        "outputId": "c02dd7fa-1415-4984-96af-188747c6f3c2"
      },
      "execution_count": null,
      "outputs": [
        {
          "output_type": "execute_result",
          "data": {
            "text/plain": [
              "Entityset: e-commerce_es\n",
              "  DataFrames:\n",
              "    Customers [Rows: 5, Columns: 4]\n",
              "    Products [Rows: 5, Columns: 4]\n",
              "    Orders [Rows: 7, Columns: 4]\n",
              "    OrderDetails [Rows: 10, Columns: 5]\n",
              "  Relationships:\n",
              "    Orders.CustomerID -> Customers.CustomerID\n",
              "    OrderDetails.ProductID -> Products.ProductID\n",
              "    OrderDetails.OrderID -> Orders.OrderID"
            ]
          },
          "metadata": {},
          "execution_count": 99
        }
      ]
    },
    {
      "cell_type": "markdown",
      "source": [
        "####check entity"
      ],
      "metadata": {
        "id": "mim_dm3YgYWD"
      }
    },
    {
      "cell_type": "code",
      "source": [
        "print(entitySet)"
      ],
      "metadata": {
        "colab": {
          "base_uri": "https://localhost:8080/"
        },
        "id": "LgivuZjcg40s",
        "outputId": "1ae02dc0-9d2c-41a9-e464-7947d8003a82"
      },
      "execution_count": null,
      "outputs": [
        {
          "output_type": "stream",
          "name": "stdout",
          "text": [
            "Entityset: e-commerce_es\n",
            "  DataFrames:\n",
            "    Customers [Rows: 5, Columns: 4]\n",
            "    Products [Rows: 5, Columns: 4]\n",
            "    Orders [Rows: 7, Columns: 4]\n",
            "    OrderDetails [Rows: 10, Columns: 5]\n",
            "  Relationships:\n",
            "    Orders.CustomerID -> Customers.CustomerID\n",
            "    OrderDetails.ProductID -> Products.ProductID\n",
            "    OrderDetails.OrderID -> Orders.OrderID\n"
          ]
        }
      ]
    },
    {
      "cell_type": "markdown",
      "source": [
        "#Deep Feature Synthesis (DFS)"
      ],
      "metadata": {
        "id": "rBkRrC7nxsE4"
      }
    },
    {
      "cell_type": "code",
      "source": [
        "# Generate features with DFS for Orders fact table\n",
        "feature_matrix, feature_defs = ft.dfs(\n",
        "    entityset=entitySet,\n",
        "    target_dataframe_name=\"Orders\",\n",
        "    verbose=True,\n",
        "    max_depth=3,\n",
        "    agg_primitives=['sum', 'mean', 'count', 'max', 'min'],\n",
        "    trans_primitives=['month', 'year', 'weekday']\n",
        ")\n"
      ],
      "metadata": {
        "colab": {
          "base_uri": "https://localhost:8080/"
        },
        "id": "nYPhdn25xwYt",
        "outputId": "29c89992-e0bc-4728-9ec1-e8304cf4aa12"
      },
      "execution_count": null,
      "outputs": [
        {
          "output_type": "stream",
          "name": "stdout",
          "text": [
            "Built 95 features\n",
            "Elapsed: 00:00 | Progress:  30%|██▉       "
          ]
        },
        {
          "output_type": "stream",
          "name": "stderr",
          "text": [
            "/usr/local/lib/python3.10/dist-packages/featuretools/computational_backends/feature_set_calculator.py:785: FutureWarning: The provided callable <function sum at 0x78ff345bc0d0> is currently using SeriesGroupBy.sum. In a future version of pandas, the provided callable will be used directly. To keep current behavior pass the string \"sum\" instead.\n",
            "  ).agg(to_agg)\n",
            "/usr/local/lib/python3.10/dist-packages/featuretools/computational_backends/feature_set_calculator.py:785: FutureWarning: The provided callable <function min at 0x78ff345bc820> is currently using SeriesGroupBy.min. In a future version of pandas, the provided callable will be used directly. To keep current behavior pass the string \"min\" instead.\n",
            "  ).agg(to_agg)\n",
            "/usr/local/lib/python3.10/dist-packages/featuretools/computational_backends/feature_set_calculator.py:785: FutureWarning: The provided callable <function max at 0x78ff345bc700> is currently using SeriesGroupBy.max. In a future version of pandas, the provided callable will be used directly. To keep current behavior pass the string \"max\" instead.\n",
            "  ).agg(to_agg)\n",
            "/usr/local/lib/python3.10/dist-packages/featuretools/computational_backends/feature_set_calculator.py:785: FutureWarning: The provided callable <function mean at 0x78ff345bd000> is currently using SeriesGroupBy.mean. In a future version of pandas, the provided callable will be used directly. To keep current behavior pass the string \"mean\" instead.\n",
            "  ).agg(to_agg)\n",
            "/usr/local/lib/python3.10/dist-packages/featuretools/computational_backends/feature_set_calculator.py:785: FutureWarning: The provided callable <function sum at 0x78ff345bc0d0> is currently using SeriesGroupBy.sum. In a future version of pandas, the provided callable will be used directly. To keep current behavior pass the string \"sum\" instead.\n",
            "  ).agg(to_agg)\n",
            "/usr/local/lib/python3.10/dist-packages/featuretools/computational_backends/feature_set_calculator.py:785: FutureWarning: The provided callable <function min at 0x78ff345bc820> is currently using SeriesGroupBy.min. In a future version of pandas, the provided callable will be used directly. To keep current behavior pass the string \"min\" instead.\n",
            "  ).agg(to_agg)\n",
            "/usr/local/lib/python3.10/dist-packages/featuretools/computational_backends/feature_set_calculator.py:785: FutureWarning: The provided callable <function max at 0x78ff345bc700> is currently using SeriesGroupBy.max. In a future version of pandas, the provided callable will be used directly. To keep current behavior pass the string \"max\" instead.\n",
            "  ).agg(to_agg)\n",
            "/usr/local/lib/python3.10/dist-packages/featuretools/computational_backends/feature_set_calculator.py:785: FutureWarning: The provided callable <function mean at 0x78ff345bd000> is currently using SeriesGroupBy.mean. In a future version of pandas, the provided callable will be used directly. To keep current behavior pass the string \"mean\" instead.\n",
            "  ).agg(to_agg)\n",
            "/usr/local/lib/python3.10/dist-packages/featuretools/computational_backends/feature_set_calculator.py:785: FutureWarning: The provided callable <function sum at 0x78ff345bc0d0> is currently using SeriesGroupBy.sum. In a future version of pandas, the provided callable will be used directly. To keep current behavior pass the string \"sum\" instead.\n",
            "  ).agg(to_agg)\n",
            "/usr/local/lib/python3.10/dist-packages/featuretools/computational_backends/feature_set_calculator.py:785: FutureWarning: The provided callable <function mean at 0x78ff345bd000> is currently using SeriesGroupBy.mean. In a future version of pandas, the provided callable will be used directly. To keep current behavior pass the string \"mean\" instead.\n",
            "  ).agg(to_agg)\n",
            "/usr/local/lib/python3.10/dist-packages/featuretools/computational_backends/feature_set_calculator.py:785: FutureWarning: The provided callable <function min at 0x78ff345bc820> is currently using SeriesGroupBy.min. In a future version of pandas, the provided callable will be used directly. To keep current behavior pass the string \"min\" instead.\n",
            "  ).agg(to_agg)\n",
            "/usr/local/lib/python3.10/dist-packages/featuretools/computational_backends/feature_set_calculator.py:785: FutureWarning: The provided callable <function max at 0x78ff345bc700> is currently using SeriesGroupBy.max. In a future version of pandas, the provided callable will be used directly. To keep current behavior pass the string \"max\" instead.\n",
            "  ).agg(to_agg)\n",
            "/usr/local/lib/python3.10/dist-packages/featuretools/computational_backends/feature_set_calculator.py:785: FutureWarning: The provided callable <function max at 0x78ff345bc700> is currently using SeriesGroupBy.max. In a future version of pandas, the provided callable will be used directly. To keep current behavior pass the string \"max\" instead.\n",
            "  ).agg(to_agg)\n",
            "/usr/local/lib/python3.10/dist-packages/featuretools/computational_backends/feature_set_calculator.py:785: FutureWarning: The provided callable <function sum at 0x78ff345bc0d0> is currently using SeriesGroupBy.sum. In a future version of pandas, the provided callable will be used directly. To keep current behavior pass the string \"sum\" instead.\n",
            "  ).agg(to_agg)\n",
            "/usr/local/lib/python3.10/dist-packages/featuretools/computational_backends/feature_set_calculator.py:785: FutureWarning: The provided callable <function mean at 0x78ff345bd000> is currently using SeriesGroupBy.mean. In a future version of pandas, the provided callable will be used directly. To keep current behavior pass the string \"mean\" instead.\n",
            "  ).agg(to_agg)\n",
            "/usr/local/lib/python3.10/dist-packages/featuretools/computational_backends/feature_set_calculator.py:785: FutureWarning: The provided callable <function min at 0x78ff345bc820> is currently using SeriesGroupBy.min. In a future version of pandas, the provided callable will be used directly. To keep current behavior pass the string \"min\" instead.\n",
            "  ).agg(to_agg)\n",
            "/usr/local/lib/python3.10/dist-packages/featuretools/computational_backends/feature_set_calculator.py:785: FutureWarning: The provided callable <function mean at 0x78ff345bd000> is currently using SeriesGroupBy.mean. In a future version of pandas, the provided callable will be used directly. To keep current behavior pass the string \"mean\" instead.\n",
            "  ).agg(to_agg)\n",
            "/usr/local/lib/python3.10/dist-packages/featuretools/computational_backends/feature_set_calculator.py:785: FutureWarning: The provided callable <function sum at 0x78ff345bc0d0> is currently using SeriesGroupBy.sum. In a future version of pandas, the provided callable will be used directly. To keep current behavior pass the string \"sum\" instead.\n",
            "  ).agg(to_agg)\n",
            "/usr/local/lib/python3.10/dist-packages/featuretools/computational_backends/feature_set_calculator.py:785: FutureWarning: The provided callable <function max at 0x78ff345bc700> is currently using SeriesGroupBy.max. In a future version of pandas, the provided callable will be used directly. To keep current behavior pass the string \"max\" instead.\n",
            "  ).agg(to_agg)\n",
            "/usr/local/lib/python3.10/dist-packages/featuretools/computational_backends/feature_set_calculator.py:785: FutureWarning: The provided callable <function min at 0x78ff345bc820> is currently using SeriesGroupBy.min. In a future version of pandas, the provided callable will be used directly. To keep current behavior pass the string \"min\" instead.\n",
            "  ).agg(to_agg)\n"
          ]
        },
        {
          "output_type": "stream",
          "name": "stdout",
          "text": [
            "Elapsed: 00:00 | Progress: 100%|██████████\n"
          ]
        }
      ]
    },
    {
      "cell_type": "code",
      "source": [
        "# PRINT THE GENERATED FEATURE MATRIX\n",
        "print(feature_matrix.head())\n",
        "print(feature_defs)"
      ],
      "metadata": {
        "colab": {
          "base_uri": "https://localhost:8080/"
        },
        "id": "2IxvGbB0zbeH",
        "outputId": "06cb9c28-fb8a-4b89-f945-bf03b689be35"
      },
      "execution_count": null,
      "outputs": [
        {
          "output_type": "stream",
          "name": "stdout",
          "text": [
            "         CustomerID  COUNT(OrderDetails)  MAX(OrderDetails.Discount)  \\\n",
            "OrderID                                                                \n",
            "301             101                    1                        0.00   \n",
            "302             102                    1                        0.10   \n",
            "303             103                    1                        0.00   \n",
            "304             104                    2                        0.05   \n",
            "305             105                    1                        0.15   \n",
            "\n",
            "         MAX(OrderDetails.Quantity)  MEAN(OrderDetails.Discount)  \\\n",
            "OrderID                                                            \n",
            "301                             1.0                         0.00   \n",
            "302                             2.0                         0.10   \n",
            "303                             1.0                         0.00   \n",
            "304                             1.0                         0.05   \n",
            "305                             3.0                         0.15   \n",
            "\n",
            "         MEAN(OrderDetails.Quantity)  MIN(OrderDetails.Discount)  \\\n",
            "OrderID                                                            \n",
            "301                              1.0                        0.00   \n",
            "302                              2.0                        0.10   \n",
            "303                              1.0                        0.00   \n",
            "304                              1.0                        0.05   \n",
            "305                              3.0                        0.15   \n",
            "\n",
            "         MIN(OrderDetails.Quantity)  SUM(OrderDetails.Discount)  \\\n",
            "OrderID                                                           \n",
            "301                             1.0                        0.00   \n",
            "302                             2.0                        0.10   \n",
            "303                             1.0                        0.00   \n",
            "304                             1.0                        0.10   \n",
            "305                             3.0                        0.15   \n",
            "\n",
            "         SUM(OrderDetails.Quantity)  ...  \\\n",
            "OrderID                              ...   \n",
            "301                             1.0  ...   \n",
            "302                             2.0  ...   \n",
            "303                             1.0  ...   \n",
            "304                             2.0  ...   \n",
            "305                             3.0  ...   \n",
            "\n",
            "        Customers.SUM(Orders.MAX(OrderDetails.Discount))  \\\n",
            "OrderID                                                    \n",
            "301                                                 0.00   \n",
            "302                                                 0.20   \n",
            "303                                                 0.00   \n",
            "304                                                 0.05   \n",
            "305                                                 0.15   \n",
            "\n",
            "        Customers.SUM(Orders.MAX(OrderDetails.Quantity))  \\\n",
            "OrderID                                                    \n",
            "301                                                  3.0   \n",
            "302                                                  3.0   \n",
            "303                                                  1.0   \n",
            "304                                                  1.0   \n",
            "305                                                  3.0   \n",
            "\n",
            "        Customers.SUM(Orders.MEAN(OrderDetails.Discount))  \\\n",
            "OrderID                                                     \n",
            "301                                                  0.00   \n",
            "302                                                  0.20   \n",
            "303                                                  0.00   \n",
            "304                                                  0.05   \n",
            "305                                                  0.15   \n",
            "\n",
            "        Customers.SUM(Orders.MEAN(OrderDetails.Quantity))  \\\n",
            "OrderID                                                     \n",
            "301                                                   3.0   \n",
            "302                                                   3.0   \n",
            "303                                                   1.0   \n",
            "304                                                   1.0   \n",
            "305                                                   3.0   \n",
            "\n",
            "        Customers.SUM(Orders.MIN(OrderDetails.Discount))  \\\n",
            "OrderID                                                    \n",
            "301                                                 0.00   \n",
            "302                                                 0.20   \n",
            "303                                                 0.00   \n",
            "304                                                 0.05   \n",
            "305                                                 0.15   \n",
            "\n",
            "        Customers.SUM(Orders.MIN(OrderDetails.Quantity))  \\\n",
            "OrderID                                                    \n",
            "301                                                  3.0   \n",
            "302                                                  3.0   \n",
            "303                                                  1.0   \n",
            "304                                                  1.0   \n",
            "305                                                  3.0   \n",
            "\n",
            "         Customers.MAX(OrderDetails.Products.Price)  \\\n",
            "OrderID                                               \n",
            "301                                          1000.0   \n",
            "302                                           500.0   \n",
            "303                                           800.0   \n",
            "304                                           800.0   \n",
            "305                                           300.0   \n",
            "\n",
            "         Customers.MEAN(OrderDetails.Products.Price)  \\\n",
            "OrderID                                                \n",
            "301                                       733.333333   \n",
            "302                                       433.333333   \n",
            "303                                       800.000000   \n",
            "304                                       500.000000   \n",
            "305                                       300.000000   \n",
            "\n",
            "         Customers.MIN(OrderDetails.Products.Price)  \\\n",
            "OrderID                                               \n",
            "301                                           200.0   \n",
            "302                                           300.0   \n",
            "303                                           800.0   \n",
            "304                                           200.0   \n",
            "305                                           300.0   \n",
            "\n",
            "         Customers.SUM(OrderDetails.Products.Price)  \n",
            "OrderID                                              \n",
            "301                                          2200.0  \n",
            "302                                          1300.0  \n",
            "303                                           800.0  \n",
            "304                                          1000.0  \n",
            "305                                           300.0  \n",
            "\n",
            "[5 rows x 95 columns]\n",
            "[<Feature: CustomerID>, <Feature: COUNT(OrderDetails)>, <Feature: MAX(OrderDetails.Discount)>, <Feature: MAX(OrderDetails.Quantity)>, <Feature: MEAN(OrderDetails.Discount)>, <Feature: MEAN(OrderDetails.Quantity)>, <Feature: MIN(OrderDetails.Discount)>, <Feature: MIN(OrderDetails.Quantity)>, <Feature: SUM(OrderDetails.Discount)>, <Feature: SUM(OrderDetails.Quantity)>, <Feature: MONTH(OrderDate)>, <Feature: MONTH(ShipDate)>, <Feature: WEEKDAY(OrderDate)>, <Feature: WEEKDAY(ShipDate)>, <Feature: YEAR(OrderDate)>, <Feature: YEAR(ShipDate)>, <Feature: MAX(OrderDetails.Products.Price)>, <Feature: MEAN(OrderDetails.Products.Price)>, <Feature: MIN(OrderDetails.Products.Price)>, <Feature: SUM(OrderDetails.Products.Price)>, <Feature: Customers.COUNT(Orders)>, <Feature: Customers.COUNT(OrderDetails)>, <Feature: Customers.MAX(OrderDetails.Discount)>, <Feature: Customers.MAX(OrderDetails.Quantity)>, <Feature: Customers.MEAN(OrderDetails.Discount)>, <Feature: Customers.MEAN(OrderDetails.Quantity)>, <Feature: Customers.MIN(OrderDetails.Discount)>, <Feature: Customers.MIN(OrderDetails.Quantity)>, <Feature: Customers.SUM(OrderDetails.Discount)>, <Feature: Customers.SUM(OrderDetails.Quantity)>, <Feature: Customers.MONTH(SignupDate)>, <Feature: Customers.WEEKDAY(SignupDate)>, <Feature: Customers.YEAR(SignupDate)>, <Feature: MAX(OrderDetails.Products.COUNT(OrderDetails))>, <Feature: MAX(OrderDetails.Products.MEAN(OrderDetails.Discount))>, <Feature: MAX(OrderDetails.Products.MEAN(OrderDetails.Quantity))>, <Feature: MAX(OrderDetails.Products.MIN(OrderDetails.Discount))>, <Feature: MAX(OrderDetails.Products.MIN(OrderDetails.Quantity))>, <Feature: MAX(OrderDetails.Products.SUM(OrderDetails.Discount))>, <Feature: MAX(OrderDetails.Products.SUM(OrderDetails.Quantity))>, <Feature: MEAN(OrderDetails.Products.COUNT(OrderDetails))>, <Feature: MEAN(OrderDetails.Products.MAX(OrderDetails.Discount))>, <Feature: MEAN(OrderDetails.Products.MAX(OrderDetails.Quantity))>, <Feature: MEAN(OrderDetails.Products.MEAN(OrderDetails.Discount))>, <Feature: MEAN(OrderDetails.Products.MEAN(OrderDetails.Quantity))>, <Feature: MEAN(OrderDetails.Products.MIN(OrderDetails.Discount))>, <Feature: MEAN(OrderDetails.Products.MIN(OrderDetails.Quantity))>, <Feature: MEAN(OrderDetails.Products.SUM(OrderDetails.Discount))>, <Feature: MEAN(OrderDetails.Products.SUM(OrderDetails.Quantity))>, <Feature: MIN(OrderDetails.Products.COUNT(OrderDetails))>, <Feature: MIN(OrderDetails.Products.MAX(OrderDetails.Discount))>, <Feature: MIN(OrderDetails.Products.MAX(OrderDetails.Quantity))>, <Feature: MIN(OrderDetails.Products.MEAN(OrderDetails.Discount))>, <Feature: MIN(OrderDetails.Products.MEAN(OrderDetails.Quantity))>, <Feature: MIN(OrderDetails.Products.SUM(OrderDetails.Discount))>, <Feature: MIN(OrderDetails.Products.SUM(OrderDetails.Quantity))>, <Feature: SUM(OrderDetails.Products.MAX(OrderDetails.Discount))>, <Feature: SUM(OrderDetails.Products.MAX(OrderDetails.Quantity))>, <Feature: SUM(OrderDetails.Products.MEAN(OrderDetails.Discount))>, <Feature: SUM(OrderDetails.Products.MEAN(OrderDetails.Quantity))>, <Feature: SUM(OrderDetails.Products.MIN(OrderDetails.Discount))>, <Feature: SUM(OrderDetails.Products.MIN(OrderDetails.Quantity))>, <Feature: Customers.MAX(Orders.COUNT(OrderDetails))>, <Feature: Customers.MAX(Orders.MEAN(OrderDetails.Discount))>, <Feature: Customers.MAX(Orders.MEAN(OrderDetails.Quantity))>, <Feature: Customers.MAX(Orders.MIN(OrderDetails.Discount))>, <Feature: Customers.MAX(Orders.MIN(OrderDetails.Quantity))>, <Feature: Customers.MAX(Orders.SUM(OrderDetails.Discount))>, <Feature: Customers.MAX(Orders.SUM(OrderDetails.Quantity))>, <Feature: Customers.MEAN(Orders.COUNT(OrderDetails))>, <Feature: Customers.MEAN(Orders.MAX(OrderDetails.Discount))>, <Feature: Customers.MEAN(Orders.MAX(OrderDetails.Quantity))>, <Feature: Customers.MEAN(Orders.MEAN(OrderDetails.Discount))>, <Feature: Customers.MEAN(Orders.MEAN(OrderDetails.Quantity))>, <Feature: Customers.MEAN(Orders.MIN(OrderDetails.Discount))>, <Feature: Customers.MEAN(Orders.MIN(OrderDetails.Quantity))>, <Feature: Customers.MEAN(Orders.SUM(OrderDetails.Discount))>, <Feature: Customers.MEAN(Orders.SUM(OrderDetails.Quantity))>, <Feature: Customers.MIN(Orders.COUNT(OrderDetails))>, <Feature: Customers.MIN(Orders.MAX(OrderDetails.Discount))>, <Feature: Customers.MIN(Orders.MAX(OrderDetails.Quantity))>, <Feature: Customers.MIN(Orders.MEAN(OrderDetails.Discount))>, <Feature: Customers.MIN(Orders.MEAN(OrderDetails.Quantity))>, <Feature: Customers.MIN(Orders.SUM(OrderDetails.Discount))>, <Feature: Customers.MIN(Orders.SUM(OrderDetails.Quantity))>, <Feature: Customers.SUM(Orders.MAX(OrderDetails.Discount))>, <Feature: Customers.SUM(Orders.MAX(OrderDetails.Quantity))>, <Feature: Customers.SUM(Orders.MEAN(OrderDetails.Discount))>, <Feature: Customers.SUM(Orders.MEAN(OrderDetails.Quantity))>, <Feature: Customers.SUM(Orders.MIN(OrderDetails.Discount))>, <Feature: Customers.SUM(Orders.MIN(OrderDetails.Quantity))>, <Feature: Customers.MAX(OrderDetails.Products.Price)>, <Feature: Customers.MEAN(OrderDetails.Products.Price)>, <Feature: Customers.MIN(OrderDetails.Products.Price)>, <Feature: Customers.SUM(OrderDetails.Products.Price)>]\n"
          ]
        }
      ]
    }
  ]
}